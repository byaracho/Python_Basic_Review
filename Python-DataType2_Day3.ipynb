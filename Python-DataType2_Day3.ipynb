{
 "cells": [
  {
   "cell_type": "markdown",
   "metadata": {},
   "source": [
    "# 3. 자료형(Data Type)"
   ]
  },
  {
   "cell_type": "markdown",
   "metadata": {},
   "source": [
    "### 3-4. collection : List, Tuple, Dictionary, Set"
   ]
  },
  {
   "cell_type": "markdown",
   "metadata": {},
   "source": [
    "#### Tuple : 변경할 수 없는 list이다. list에서 수정을 제외한 모든 기능을 tuple에 적용할 수 있다."
   ]
  },
  {
   "cell_type": "code",
   "execution_count": 1,
   "metadata": {},
   "outputs": [],
   "source": [
    "#선언\n",
    "\n",
    "a = 1, 2, 3, 4\n",
    "b = (1, 2, 3, 4)"
   ]
  },
  {
   "cell_type": "markdown",
   "metadata": {},
   "source": [
    "- Dictionary의 key로 사용하거나, 함수에서 여러 값을 반환할 때 tuple을 사용하면 편하다."
   ]
  },
  {
   "cell_type": "code",
   "execution_count": 2,
   "metadata": {},
   "outputs": [
    {
     "name": "stdout",
     "output_type": "stream",
     "text": [
      "(5, 6)\n",
      "15\n",
      "50\n"
     ]
    }
   ],
   "source": [
    "def sum_and_product(x, y):\n",
    "    return (x + y), (x * y)\n",
    "sp = sum_and_product(2, 3) #결과는 (5, 6)\n",
    "s, p = sum_and_product(5, 10) #다중할당으로 결과는 s=15, p=50\n",
    "\n",
    "print(sp)\n",
    "print(s)\n",
    "print(p)"
   ]
  },
  {
   "cell_type": "markdown",
   "metadata": {},
   "source": [
    "- tuple과 list는 다중 할당(multiple assignment)을 지원한다."
   ]
  },
  {
   "cell_type": "code",
   "execution_count": 3,
   "metadata": {},
   "outputs": [
    {
     "name": "stdout",
     "output_type": "stream",
     "text": [
      "2\n",
      "1\n"
     ]
    }
   ],
   "source": [
    "x, y = 1, 2\n",
    "x, y = y, x\n",
    "\n",
    "print(x)\n",
    "print(y)"
   ]
  },
  {
   "cell_type": "markdown",
   "metadata": {},
   "source": [
    "#### Dictionary : key값과 value값이 존재한다. 순서가 없어서 offset을 사용할 수 없다."
   ]
  },
  {
   "cell_type": "code",
   "execution_count": 1,
   "metadata": {},
   "outputs": [],
   "source": [
    "#선언\n",
    "\n",
    "dic = {\"사과\":\"apple\", \"바나나\":\"banana\", \"토마토\":\"tomato\"}"
   ]
  },
  {
   "cell_type": "markdown",
   "metadata": {},
   "source": [
    "- 대괄호를 사용해서 key의 value를 빠르게 불러올 수 있다.\n",
    "- 존재하지 않는 key를 입력하면 key error가 발생한다."
   ]
  },
  {
   "cell_type": "code",
   "execution_count": 2,
   "metadata": {},
   "outputs": [
    {
     "data": {
      "text/plain": [
       "'apple'"
      ]
     },
     "execution_count": 2,
     "metadata": {},
     "output_type": "execute_result"
    }
   ],
   "source": [
    "dic[\"사과\"]"
   ]
  },
  {
   "cell_type": "code",
   "execution_count": 3,
   "metadata": {},
   "outputs": [
    {
     "name": "stdout",
     "output_type": "stream",
     "text": [
      "dict_keys(['사과', '바나나', '토마토'])\n",
      "dict_values(['apple', 'banana', 'tomato'])\n",
      "dict_items([('사과', 'apple'), ('바나나', 'banana'), ('토마토', 'tomato')])\n",
      "{}\n",
      "banana\n",
      "nodata\n",
      "dic3 = {'사과': 'apple', '바나나': 'banana', '토마토': 'tomato'}\n",
      "{'사과': 'apple', '바나나': 'banana', '토마토': 'tomato', '복숭아': 'peach'}\n"
     ]
    }
   ],
   "source": [
    "#주요 method\n",
    "\n",
    "#keys : key를 리스트 형태로 리턴\n",
    "print(dic.keys())\n",
    "\n",
    "#values : value를 리스트 형태 리턴\n",
    "print(dic.values())\n",
    "\n",
    "#items : key와 value를 리스트 형태로 리턴\n",
    "print(dic.items())\n",
    "\n",
    "#clear : dictionary의 모든 값 삭제\n",
    "dic2 = {\"사과\":\"apple\", \"바나나\":\"banana\", \"토마토\":\"tomato\"}\n",
    "dic2.clear()\n",
    "print(dic2)\n",
    "\n",
    "#get : 매개변수에 해당하는 값 리턴\n",
    "print(dic.get(\"바나나\"))\n",
    "print(dic.get(\"복숭아\", \"nodata\")) #value 방지\n",
    "\n",
    "#copy : 리스트와 마찬가지로 다른 저장공간을 가지는 데이터를 대입\n",
    "dic3 = dic.copy()\n",
    "print(\"dic3 =\", dic3)\n",
    "\n",
    "#update : 데이터를 업데이트(두 dictionary를 중복값은 하나로 하여 합침)\n",
    "dic4 = {\"사과\":\"apple\", \"바나나\":\"banana\", \"토마토\":\"tomato\", \"복숭아\":\"peach\"}\n",
    "dic.update(dic4)\n",
    "print(dic)"
   ]
  },
  {
   "cell_type": "markdown",
   "metadata": {},
   "source": [
    "- 대괄호를 사용하여 key와 value를 새로 넣어줄 수 있다."
   ]
  },
  {
   "cell_type": "code",
   "execution_count": 6,
   "metadata": {},
   "outputs": [
    {
     "name": "stdout",
     "output_type": "stream",
     "text": [
      "{'사과': 'apple', '바나나': 'banana', '토마토': 'tomato', '복숭아': 'peach', '오렌지': 'orange'}\n"
     ]
    }
   ],
   "source": [
    "dic[\"오렌지\"] = \"orange\"\n",
    "print(dic)"
   ]
  },
  {
   "cell_type": "markdown",
   "metadata": {},
   "source": [
    "- 연산자 in을 사용하여 key의 존재 여부를 확인할 수 있다.\n",
    "- list에서 in을 사용하는 것보다 훨씬 빠르다."
   ]
  },
  {
   "cell_type": "code",
   "execution_count": 8,
   "metadata": {},
   "outputs": [
    {
     "name": "stdout",
     "output_type": "stream",
     "text": [
      "True\n"
     ]
    }
   ],
   "source": [
    "print(\"사과\" in dic)"
   ]
  },
  {
   "cell_type": "markdown",
   "metadata": {},
   "source": [
    "- dictionary의 key는 수정할 수 없으며, list를 key로 사용할 수 없다.(value는 가능)\n",
    "- 만약 다양한 값으로 구성된 key가 필요하다면 tuple이나 문자열을 key로 사용하도록 하자."
   ]
  }
 ],
 "metadata": {
  "kernelspec": {
   "display_name": "Python 3",
   "language": "python",
   "name": "python3"
  },
  "language_info": {
   "codemirror_mode": {
    "name": "ipython",
    "version": 3
   },
   "file_extension": ".py",
   "mimetype": "text/x-python",
   "name": "python",
   "nbconvert_exporter": "python",
   "pygments_lexer": "ipython3",
   "version": "3.6.4"
  }
 },
 "nbformat": 4,
 "nbformat_minor": 2
}
