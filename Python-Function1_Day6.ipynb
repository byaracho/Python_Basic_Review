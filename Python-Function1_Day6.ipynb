{
 "cells": [
  {
   "cell_type": "markdown",
   "metadata": {},
   "source": [
    "# 1. Basic Function"
   ]
  },
  {
   "cell_type": "markdown",
   "metadata": {},
   "source": [
    "- 반복적인 기능을 묶어주는 개념이다.\n",
    "- 반복적인 기능함수를 통해 깔끔한 코딩이 가능하다."
   ]
  },
  {
   "cell_type": "code",
   "execution_count": 2,
   "metadata": {},
   "outputs": [
    {
     "name": "stdout",
     "output_type": "stream",
     "text": [
      "1 2\n"
     ]
    }
   ],
   "source": [
    "#구조\n",
    "def function_name(parameter_name1, parameter_name2):\n",
    "    print(parameter_name1, parameter_name2)\n",
    "    \n",
    "function_name(1, 2)"
   ]
  },
  {
   "cell_type": "markdown",
   "metadata": {},
   "source": [
    "#### return\n",
    "- 값을 리턴해준다.\n",
    "- 함수의 끝을 의미한다."
   ]
  },
  {
   "cell_type": "code",
   "execution_count": 3,
   "metadata": {},
   "outputs": [
    {
     "name": "stdout",
     "output_type": "stream",
     "text": [
      "['apple', 'orange']\n"
     ]
    }
   ],
   "source": [
    "fruit_ls = []\n",
    "\n",
    "def fruit_name(val_1, val_2):\n",
    "    fruit_ls.append(val_1)\n",
    "    fruit_ls.append(val_2)\n",
    "    return fruit_ls\n",
    "\n",
    "print(fruit_name(\"apple\", \"orange\"))"
   ]
  },
  {
   "cell_type": "markdown",
   "metadata": {},
   "source": [
    "#### parameter & arguments\n",
    "- parameter : 매개변수, 함수를 정의할 때 사용하는 변수를 의미한다.\n",
    "- argument : 실행인자, 함수를 실행시킬 때 사용하는 변수 혹은 값을 의미한다."
   ]
  },
  {
   "cell_type": "code",
   "execution_count": 7,
   "metadata": {},
   "outputs": [
    {
     "name": "stdout",
     "output_type": "stream",
     "text": [
      "fast_campus,data_science\n",
      "data,science\n"
     ]
    }
   ],
   "source": [
    "#set basic parameters\n",
    "def print_func(s1, s2 = \"no data\"):\n",
    "    print(\"{},{}\".format(s1, s2))\n",
    "\n",
    "#position arguments\n",
    "print_func(\"fast_campus\", \"data_science\")\n",
    "\n",
    "#keyword arguments\n",
    "print_func(s1 = \"data\", s2 = \"science\")"
   ]
  },
  {
   "cell_type": "markdown",
   "metadata": {},
   "source": [
    "#### *args\n",
    "- 함수에서 여러개의 파라미터를 한꺼번에 받을 때 사용한다.\n",
    "- 받는 argument의 데이터는 tuple로 받는다.\n",
    "- *의 의미는 모든 value를 다 받는다는 의미이다."
   ]
  },
  {
   "cell_type": "code",
   "execution_count": 2,
   "metadata": {},
   "outputs": [
    {
     "name": "stdout",
     "output_type": "stream",
     "text": [
      "(1, 2, 3, 'fast', 'campus', ['data', 'science'])\n",
      "<class 'tuple'>\n",
      "campus\n",
      "science\n"
     ]
    }
   ],
   "source": [
    "def print_args(*args):\n",
    "    print(args)\n",
    "    print(type(args))\n",
    "    print(args[4])\n",
    "    print(args[5][1])\n",
    "    \n",
    "print_args(1, 2, 3, \"fast\", \"campus\", [\"data\", \"science\"])"
   ]
  },
  {
   "cell_type": "markdown",
   "metadata": {},
   "source": [
    "#### **kwargs\n",
    "- keyword argment, 여러개의 파라미터를 key-value로 받을 때 사용한다.\n",
    "- 받는 keyword argumn"
   ]
  }
 ],
 "metadata": {
  "kernelspec": {
   "display_name": "Python 3",
   "language": "python",
   "name": "python3"
  },
  "language_info": {
   "codemirror_mode": {
    "name": "ipython",
    "version": 3
   },
   "file_extension": ".py",
   "mimetype": "text/x-python",
   "name": "python",
   "nbconvert_exporter": "python",
   "pygments_lexer": "ipython3",
   "version": "3.6.4"
  }
 },
 "nbformat": 4,
 "nbformat_minor": 2
}
