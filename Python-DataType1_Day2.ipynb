{
 "cells": [
  {
   "cell_type": "markdown",
   "metadata": {},
   "source": [
    "# 1. 식별자(Indentifiers)\n",
    "- 변수, 함수, 클래스, 모듈 등을 구분하기 위해 사용되는 이름"
   ]
  },
  {
   "cell_type": "markdown",
   "metadata": {},
   "source": [
    "# 2. 변수(Variable)\n",
    "- 메모리에 데이터를 저장하기 위해 사용되는 저장공간의 이름\n",
    "- 파이썬은 변수의 이름을 저장할 때 'snake_case'를 사용한다."
   ]
  },
  {
   "cell_type": "code",
   "execution_count": 2,
   "metadata": {},
   "outputs": [
    {
     "name": "stdout",
     "output_type": "stream",
     "text": [
      "3\n"
     ]
    }
   ],
   "source": [
    "variable_one = 1\n",
    "variable_two = 2\n",
    "\n",
    "print(variable_one + variable_two)"
   ]
  },
  {
   "cell_type": "code",
   "execution_count": 3,
   "metadata": {},
   "outputs": [
    {
     "name": "stdout",
     "output_type": "stream",
     "text": [
      "3\n"
     ]
    }
   ],
   "source": [
    "#다중할당 가능\n",
    "a, b = 1, 2\n",
    "\n",
    "print(a + b)"
   ]
  },
  {
   "cell_type": "markdown",
   "metadata": {},
   "source": [
    "# 3. 자료형(Data Type)"
   ]
  },
  {
   "cell_type": "markdown",
   "metadata": {},
   "source": [
    "### 3-1. Numbers : integer(정수), float(실수), complex(복소수)"
   ]
  },
  {
   "cell_type": "code",
   "execution_count": 5,
   "metadata": {},
   "outputs": [
    {
     "name": "stdout",
     "output_type": "stream",
     "text": [
      "<class 'int'>\n",
      "<class 'float'>\n"
     ]
    }
   ],
   "source": [
    "print(type(1))\n",
    "print(type(2.5))"
   ]
  },
  {
   "cell_type": "markdown",
   "metadata": {},
   "source": [
    "### 3-2. Boolean : True, False"
   ]
  },
  {
   "cell_type": "code",
   "execution_count": 7,
   "metadata": {},
   "outputs": [
    {
     "name": "stdout",
     "output_type": "stream",
     "text": [
      "<class 'bool'>\n",
      "<class 'bool'>\n",
      "True\n",
      "False\n",
      "True\n"
     ]
    }
   ],
   "source": [
    "print(type(True))\n",
    "print(type(False))\n",
    "print(True & True) #&는 and로 치환하여 쓸 수 있다.\n",
    "print(True & False)\n",
    "print(True | False) #|는 or로 치환하여 쓸 수 있다."
   ]
  },
  {
   "cell_type": "markdown",
   "metadata": {},
   "source": [
    "### 3-3. String : 문자열"
   ]
  },
  {
   "cell_type": "code",
   "execution_count": 23,
   "metadata": {},
   "outputs": [],
   "source": [
    "#선언\n",
    "data_string = \"hello\"\n",
    "data_string2 = 'PYTHON'"
   ]
  },
  {
   "cell_type": "markdown",
   "metadata": {},
   "source": [
    "- 세 개의 따옴표를 사용하면 하나의 문자열을 여러 줄로 나눠서 나타낼 수 있다."
   ]
  },
  {
   "cell_type": "code",
   "execution_count": 25,
   "metadata": {},
   "outputs": [
    {
     "name": "stdout",
     "output_type": "stream",
     "text": [
      "first line,\n",
      "second line,\n",
      "thire line.\n"
     ]
    }
   ],
   "source": [
    "multi_line_string = \"\"\"first line,\n",
    "second line,\n",
    "thire line.\"\"\"\n",
    "\n",
    "print(multi_line_string)"
   ]
  },
  {
   "cell_type": "markdown",
   "metadata": {},
   "source": [
    "- 파이썬은 몇몇 특수문자를 코딩할 때 역슬래시를 사용한다.\n",
    "- 따라서 역슬래시를 포함한 문자열을 제대로 인식시키려면, 문자열 앞에 r을 붙여 'raw string'임을 명시하면 된다."
   ]
  },
  {
   "cell_type": "code",
   "execution_count": 22,
   "metadata": {},
   "outputs": [
    {
     "name": "stdout",
     "output_type": "stream",
     "text": [
      "1\n",
      "2\n"
     ]
    }
   ],
   "source": [
    "tab_string = \"\\t\"\n",
    "print(len(tab_string)) #개수를 세줄 때 len이라는 내장함수를 사용한다.\n",
    "\n",
    "tab_string2 = r\"\\t\"\n",
    "print(len(tab_string2))"
   ]
  },
  {
   "cell_type": "code",
   "execution_count": 17,
   "metadata": {},
   "outputs": [
    {
     "name": "stdout",
     "output_type": "stream",
     "text": [
      "el\n",
      "llo\n",
      "PTO\n",
      "NHY\n"
     ]
    }
   ],
   "source": [
    "#String offset\n",
    "\n",
    "#인덱스 규칙 : 'h':0 ~ 'o':4 & 'o':-1 ~ 'o'\n",
    "\n",
    "#[a : b] : [포함, 불포함]\n",
    "print(data_string[1:3])\n",
    "\n",
    "#[a : 공백] : [시작점, (오른쪽으로)끝까지]\n",
    "print(data_string[-3:])\n",
    "      \n",
    "#[::a] : a씩 오른쪽으로 건너 뛰기\n",
    "print(data_string2[::2])\n",
    "\n",
    "\n",
    "#[::-a] : a씩 왼쪽으로 건너 뛰기\n",
    "print(data_string2[::-2])"
   ]
  },
  {
   "cell_type": "code",
   "execution_count": 19,
   "metadata": {},
   "outputs": [
    {
     "name": "stdout",
     "output_type": "stream",
     "text": [
      "HELLO\n",
      "python\n",
      "1\n",
      "1\n",
      "1\n",
      "hello world!\n",
      "hello world!\n",
      "hello world!\n",
      "PYYTHON\n",
      "['hello,', 'nice', 'to', 'meet', 'you.']\n",
      "True\n",
      "hello, nice to meet you.\n"
     ]
    }
   ],
   "source": [
    "#주요 method\n",
    "\n",
    "#upper : 대문자\n",
    "print(data_string.upper())\n",
    "\n",
    "#lower : 소문자\n",
    "print(data_string2.lower())\n",
    "\n",
    "#find : 해당 문자열 위치(없으면 -1)\n",
    "print(data_string.find('e'))\n",
    "\n",
    "#index : 해당 문자열 위치(없으면 value error)\n",
    "print(data_string.index('e'))\n",
    "\n",
    "#count : 문자열 갯수 세기\n",
    "print(data_string.count('e'))\n",
    "\n",
    "#lstrip : 왼쪽 공백 제거\n",
    "print(\" hello world!\".lstrip())\n",
    "\n",
    "#rstrip : 오른쪽 공백 제거\n",
    "print(\"hello world! \".rstrip())\n",
    "\n",
    "#strip : 양쪽 공백 제거\n",
    "print(\" hello world! \".strip())\n",
    "\n",
    "#replace : 특정 문자열 치환\n",
    "print(data_string2.replace('Y', 'YY'))\n",
    "\n",
    "#split : 특정 문자열로 분리하여 리스트 형태로 리턴\n",
    "ls = \"hello, nice to meet you.\".split(\" \")\n",
    "print(ls)\n",
    "\n",
    "#endswith : 마지막 문자열이 일치하면 True 리턴\n",
    "print(data_string.endswith(\"o\"))\n",
    "\n",
    "#join : 문자열 리스트를 결합\n",
    "print(\" \".join(ls))"
   ]
  },
  {
   "cell_type": "code",
   "execution_count": 20,
   "metadata": {},
   "outputs": [
    {
     "name": "stdout",
     "output_type": "stream",
     "text": [
      "5월 5일\n"
     ]
    }
   ],
   "source": [
    "#문자열 포맷팅\n",
    "\n",
    "month = \"5\"\n",
    "day = \"5\"\n",
    "\n",
    "print(\"{}월 {}일\".format(month, day))"
   ]
  },
  {
   "cell_type": "markdown",
   "metadata": {},
   "source": [
    "### 3-4. collection : List, Tuple, Dictionary, Set"
   ]
  },
  {
   "cell_type": "markdown",
   "metadata": {},
   "source": [
    "#### list"
   ]
  },
  {
   "cell_type": "code",
   "execution_count": 59,
   "metadata": {},
   "outputs": [],
   "source": [
    "#선언\n",
    "\n",
    "ls = [1, 2, 3]\n",
    "ls2 = [\"hello\", [1, 4]] #리스트 안에 리스트를 쓸 수 있다.\n",
    "ls3 = [3, 5, 2, 1, 4]"
   ]
  },
  {
   "cell_type": "code",
   "execution_count": 60,
   "metadata": {},
   "outputs": [
    {
     "name": "stdout",
     "output_type": "stream",
     "text": [
      "[1, 'a']\n"
     ]
    }
   ],
   "source": [
    "#list offset\n",
    "\n",
    "#활용 방법은 string과 동일하다.\n",
    "\n",
    "ls[1:4] = \"a\" #offset을 활용하여 list의 value를 수정할 수 있다. (broadcasting 적용 되지 않음)\n",
    "print(ls)"
   ]
  },
  {
   "cell_type": "code",
   "execution_count": 61,
   "metadata": {},
   "outputs": [
    {
     "name": "stdout",
     "output_type": "stream",
     "text": [
      "['hello', [1, 4], 'python']\n",
      "[1, 2, 3, 4, 5]\n",
      "[[1, 4], 'hello', 'python']\n",
      "[5, 4, 3, 2, 1]\n",
      "2\n",
      "None\n",
      "[5, 'insert', 4, 3, 2]\n",
      "2\n",
      "[5, 'insert', 4, 3]\n"
     ]
    }
   ],
   "source": [
    "#주요 method\n",
    "\n",
    "#append : 가장 마지막에 데이터 추가\n",
    "ls2.append(\"python\")\n",
    "print(ls2)\n",
    "\n",
    "#sort : 오름차순 정렬\n",
    "ls3.sort()\n",
    "print(ls3)\n",
    "\n",
    "#(key=len)을 사용하면, value의 길이 순으로 정렬 가능하다.\n",
    "ls2.sort(key=len)\n",
    "print(ls2)\n",
    "\n",
    "#reverse : 내림차순 정렬\n",
    "ls3.reverse()\n",
    "print(ls3)\n",
    "\n",
    "#index : 데이터 위치 리턴\n",
    "print(ls2.index(\"python\"))\n",
    "\n",
    "#insert : 특정 위치에 데이터를 추가\n",
    "print(ls3.insert(1, \"insert\"))\n",
    "\n",
    "#remove : 해당되는 데이터 값 삭제(index가 가장 작은 데이터 하나만 삭제)\n",
    "ls3.remove(1)\n",
    "print(ls3)\n",
    "\n",
    "#pop : 가장 마지막 값을 리턴하고 마지막 값 삭제\n",
    "print(ls3.pop())\n",
    "print(ls3)"
   ]
  },
  {
   "cell_type": "markdown",
   "metadata": {},
   "source": [
    "- 변수의 차이"
   ]
  },
  {
   "cell_type": "code",
   "execution_count": 56,
   "metadata": {},
   "outputs": [
    {
     "name": "stdout",
     "output_type": "stream",
     "text": [
      "[1, 2, 3]\n",
      "[1, 2, 3]\n"
     ]
    }
   ],
   "source": [
    "a = [1, 2, 3]\n",
    "b = a\n",
    "\n",
    "print(a)\n",
    "print(b)"
   ]
  },
  {
   "cell_type": "code",
   "execution_count": 62,
   "metadata": {},
   "outputs": [
    {
     "name": "stdout",
     "output_type": "stream",
     "text": [
      "[1, 2, 3]\n",
      "<built-in method copy of list object at 0x113509cc8>\n"
     ]
    }
   ],
   "source": [
    "c = [1, 2, 3]\n",
    "d = c.copy\n",
    "\n",
    "print(c)\n",
    "print(d)"
   ]
  },
  {
   "cell_type": "markdown",
   "metadata": {},
   "source": [
    "- in 연산자를 사용하면 list 안의 value 존재 여부를 리턴해준다.\n",
    "- 하지만 이 방법은 항목을 모두 확인해보기 때문에, 개수가 작을 때만 사용하는 것이 좋다."
   ]
  },
  {
   "cell_type": "code",
   "execution_count": 63,
   "metadata": {},
   "outputs": [
    {
     "name": "stdout",
     "output_type": "stream",
     "text": [
      "True\n",
      "False\n"
     ]
    }
   ],
   "source": [
    "print(1 in a)\n",
    "print(0 in a)"
   ]
  },
  {
   "cell_type": "markdown",
   "metadata": {},
   "source": [
    "- list를 연결해줄 때는 extend를 사용하거나, +를 사용한다."
   ]
  },
  {
   "cell_type": "code",
   "execution_count": 64,
   "metadata": {},
   "outputs": [
    {
     "name": "stdout",
     "output_type": "stream",
     "text": [
      "[1, 2, 3, 4, 5, 6]\n"
     ]
    }
   ],
   "source": [
    "a.extend([4, 5, 6])\n",
    "print(a)"
   ]
  },
  {
   "cell_type": "code",
   "execution_count": 65,
   "metadata": {},
   "outputs": [
    {
     "name": "stdout",
     "output_type": "stream",
     "text": [
      "[1, 2, 3, 4, 5, 6, 7, 8, 9]\n"
     ]
    }
   ],
   "source": [
    "b = a + [7, 8, 9]\n",
    "print(b)"
   ]
  },
  {
   "cell_type": "markdown",
   "metadata": {},
   "source": [
    "- list를 unpack하여 변수로 사용할 수 있다."
   ]
  },
  {
   "cell_type": "code",
   "execution_count": 66,
   "metadata": {},
   "outputs": [
    {
     "name": "stdout",
     "output_type": "stream",
     "text": [
      "1 2 2\n"
     ]
    }
   ],
   "source": [
    "x, y = [1, 2] #개수가 안 맞으면, value error\n",
    "_, z = [1, 2] #버리고 싶은 항목은 밑줄로 표시한다.\n",
    "\n",
    "print(x, y, z)"
   ]
  }
 ],
 "metadata": {
  "kernelspec": {
   "display_name": "Python 3",
   "language": "python",
   "name": "python3"
  },
  "language_info": {
   "codemirror_mode": {
    "name": "ipython",
    "version": 3
   },
   "file_extension": ".py",
   "mimetype": "text/x-python",
   "name": "python",
   "nbconvert_exporter": "python",
   "pygments_lexer": "ipython3",
   "version": "3.6.4"
  }
 },
 "nbformat": 4,
 "nbformat_minor": 2
}
