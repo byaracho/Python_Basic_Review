{
 "cells": [
  {
   "cell_type": "markdown",
   "metadata": {},
   "source": [
    "# 3. 자료형(Data Type)"
   ]
  },
  {
   "cell_type": "markdown",
   "metadata": {},
   "source": [
    "### 3-4. collection : List, Tuple, Dictionary, Set"
   ]
  },
  {
   "cell_type": "markdown",
   "metadata": {},
   "source": [
    "#### Dictionary\n",
    "- defaultdic : 만약 존재하지 않는 key가 주어진다면 defaultdic은 이 key와 인자에서 주어진 값으로 새로운 항목을 추가해준다.(덮어 쓰지 않음)\n",
    "- 문서에서 단어의 빈도수를 세어볼 때 유용하게 사용할 수 있다."
   ]
  },
  {
   "cell_type": "code",
   "execution_count": 2,
   "metadata": {},
   "outputs": [],
   "source": [
    "#collections 모듈에서 defaultdic를 불러와야 한다.\n",
    "from collections import defaultdict"
   ]
  },
  {
   "cell_type": "code",
   "execution_count": 5,
   "metadata": {},
   "outputs": [],
   "source": [
    "word_counts = defaultdict(int) #int()는 0을 생성\n",
    "document = []\n",
    "\n",
    "for word in document:\n",
    "    word_counts[word] += 1\n",
    "    \n",
    "#list, dict 혹은 직접 만든 함수를 인자에 넣어줄 수 있다.\n",
    "dd_list = defaultdict(list) #list()는 빈 list를 생성\n",
    "dd_list[2].append(1) #이제 dd_list는 {2: [1]}을 포함\n",
    "\n",
    "dd_dict = defaultdict(dict) #dict()는 빈 dict를 생성\n",
    "dd_dict[\"Joel\"][\"City\"] = \"Seattle\" #{\"Joel\" : {\"City\":Seattle\"}}\n",
    "\n",
    "dd_pair = defaultdict(lambda: [0, 0])\n",
    "dd_pair[2][1] = 1 #이제 dd_pair는 {2: [0,1]}을 포함"
   ]
  },
  {
   "cell_type": "markdown",
   "metadata": {},
   "source": [
    "- 만약 key를 사용해서 어떤 결과를 수집하는 중이라면 매번 key가 존재하는지 확인할 필요 없이 dict를 생성할 수 있다."
   ]
  },
  {
   "cell_type": "markdown",
   "metadata": {},
   "source": [
    "- Counter : 연속된 값을 defaultdict(int)와 유사한 객체로 변환해 주며, key와 value의 빈도를 연결시켜 준다. 앞으로 히스토그램을 그릴 때 자주 사용할 것이다."
   ]
  },
  {
   "cell_type": "code",
   "execution_count": 6,
   "metadata": {},
   "outputs": [
    {
     "data": {
      "text/plain": [
       "Counter({0: 2, 1: 1, 2: 1})"
      ]
     },
     "execution_count": 6,
     "metadata": {},
     "output_type": "execute_result"
    }
   ],
   "source": [
    "from collections import Counter\n",
    "c = Counter([0, 1, 2, 0])\n",
    "c"
   ]
  },
  {
   "cell_type": "code",
   "execution_count": 7,
   "metadata": {},
   "outputs": [],
   "source": [
    "word_counts = Counter(document)"
   ]
  },
  {
   "cell_type": "code",
   "execution_count": null,
   "metadata": {},
   "outputs": [],
   "source": [
    "#Counter 객체에는 굉장히 유용하게 쓰이는 most_common 함수가 있다.\n",
    "\n",
    "#가장 자주 나오는 단어 10개와 이 단어들의 빈도수를 출력\n",
    "for word, count in word_counts.most_common(10):\n",
    "    print word, count"
   ]
  },
  {
   "cell_type": "markdown",
   "metadata": {},
   "source": [
    "#### Set : 중복되는 데이터가 없는 '집합'의 형태이다."
   ]
  },
  {
   "cell_type": "markdown",
   "metadata": {},
   "source": [
    "- 순서가 없어서 인덱스 값을 통한 불러오기나 슬라이싱이 불가능하다.\n",
    "- 수정을 원할 때는 리스트 형태로 형변환 후 사용해준다."
   ]
  },
  {
   "cell_type": "code",
   "execution_count": 8,
   "metadata": {},
   "outputs": [],
   "source": [
    "#선언\n",
    "s1 = set([1, 2, 3, 4])\n",
    "s2 = set([2, 3, 5, 6])"
   ]
  },
  {
   "cell_type": "code",
   "execution_count": 9,
   "metadata": {},
   "outputs": [
    {
     "name": "stdout",
     "output_type": "stream",
     "text": [
      "{2, 3}\n",
      "{2, 3}\n",
      "{1, 2, 3, 4, 5, 6}\n",
      "{1, 2, 3, 4, 5, 6}\n",
      "{1, 4}\n",
      "{1, 4}\n"
     ]
    }
   ],
   "source": [
    "#주요 method\n",
    "\n",
    "#& : 교집합\n",
    "print(s1 & s2)\n",
    "print(s1.intersection(s2))\n",
    "\n",
    "#| : 합집합\n",
    "print(s1 | s2)\n",
    "print(s1.union(s2))\n",
    "\n",
    "#- : 차집합\n",
    "print(s1 - s2)\n",
    "print(s1.difference(s2))"
   ]
  },
  {
   "cell_type": "markdown",
   "metadata": {},
   "source": [
    "- set에서는 list에서 in을 사용하는 것보다 훨씬 빨리 in을 수행한다.\n",
    "- set은 중복된 값을 제거해주는 장점이 있다.\n",
    "- 데이터를 수정할 수 없는 frozenset도 존재한다."
   ]
  }
 ],
 "metadata": {
  "kernelspec": {
   "display_name": "Python 3",
   "language": "python",
   "name": "python3"
  },
  "language_info": {
   "codemirror_mode": {
    "name": "ipython",
    "version": 3
   },
   "file_extension": ".py",
   "mimetype": "text/x-python",
   "name": "python",
   "nbconvert_exporter": "python",
   "pygments_lexer": "ipython3",
   "version": "3.6.4"
  }
 },
 "nbformat": 4,
 "nbformat_minor": 2
}
